{
 "cells": [
  {
   "cell_type": "code",
   "execution_count": 0,
   "metadata": {
    "application/vnd.databricks.v1+cell": {
     "cellMetadata": {
      "byteLimit": 2048000,
      "rowLimit": 10000
     },
     "inputWidgets": {},
     "nuid": "67a6b182-48c7-47ee-8db3-98eb1dd3b4eb",
     "showTitle": false,
     "tableResultSettingsMap": {},
     "title": ""
    }
   },
   "outputs": [],
   "source": [
    "# Importer les modules PySpark nécessaires :\n",
    "# - functions : pour les opérations sur les colonnes\n",
    "# - types : pour la définition des schémas\n",
    "from pyspark.sql import functions as F\n",
    "from pyspark.sql.types import *"
   ]
  },
  {
   "cell_type": "code",
   "execution_count": 0,
   "metadata": {
    "application/vnd.databricks.v1+cell": {
     "cellMetadata": {
      "byteLimit": 2048000,
      "rowLimit": 10000
     },
     "inputWidgets": {},
     "nuid": "dfe1d3f0-0026-4ce2-934f-85c096bea111",
     "showTitle": false,
     "tableResultSettingsMap": {},
     "title": ""
    }
   },
   "outputs": [
    {
     "output_type": "execute_result",
     "data": {
      "text/plain": [
       "[FileInfo(path='dbfs:/mnt/container/', name='container/', size=0, modificationTime=0)]"
      ]
     },
     "execution_count": 4,
     "metadata": {},
     "output_type": "execute_result"
    }
   ],
   "source": [
    "# Lister tous les conteneurs et fichiers disponibles dans le point de montage\n",
    "# Utile pour vérifier l'accès aux données et la structure du stockage\n",
    "dbutils.fs.ls(\"/mnt/\")"
   ]
  },
  {
   "cell_type": "code",
   "execution_count": 0,
   "metadata": {
    "application/vnd.databricks.v1+cell": {
     "cellMetadata": {
      "byteLimit": 2048000,
      "rowLimit": 10000
     },
     "inputWidgets": {},
     "nuid": "8106ce9a-156e-476a-b9b6-0748856702d5",
     "showTitle": false,
     "tableResultSettingsMap": {},
     "title": ""
    }
   },
   "outputs": [
    {
     "output_type": "execute_result",
     "data": {
      "text/plain": [
       "[FileInfo(path='dbfs:/mnt/container/API/', name='API/', size=0, modificationTime=1736443008000),\n",
       " FileInfo(path='dbfs:/mnt/container/Azure_SQL/', name='Azure_SQL/', size=0, modificationTime=1736113228000),\n",
       " FileInfo(path='dbfs:/mnt/container/DataBricks/', name='DataBricks/', size=0, modificationTime=1736458654000),\n",
       " FileInfo(path='dbfs:/mnt/container/api-dataset/', name='api-dataset/', size=0, modificationTime=1737398786000),\n",
       " FileInfo(path='dbfs:/mnt/container/azcopyinputdata/', name='azcopyinputdata/', size=0, modificationTime=1736091229000),\n",
       " FileInfo(path='dbfs:/mnt/container/df-tuto-instance/', name='df-tuto-instance/', size=0, modificationTime=1736806021000),\n",
       " FileInfo(path='dbfs:/mnt/container/df-tuto-instance.csv/', name='df-tuto-instance.csv/', size=0, modificationTime=1736805905000),\n",
       " FileInfo(path='dbfs:/mnt/container/fichier txt/', name='fichier txt/', size=0, modificationTime=1736090394000),\n",
       " FileInfo(path='dbfs:/mnt/container/france_traffic/', name='france_traffic/', size=0, modificationTime=1736884505000),\n",
       " FileInfo(path='dbfs:/mnt/container/hourly_spark_df.csv/', name='hourly_spark_df.csv/', size=0, modificationTime=1736805147000),\n",
       " FileInfo(path='dbfs:/mnt/container/hourly_spark_df.paquet/', name='hourly_spark_df.paquet/', size=0, modificationTime=1736805068000),\n",
       " FileInfo(path='dbfs:/mnt/container/meteo-data-input/', name='meteo-data-input/', size=0, modificationTime=1736803799000),\n",
       " FileInfo(path='dbfs:/mnt/container/sample_renamed.txt', name='sample_renamed.txt', size=78, modificationTime=1736090479000),\n",
       " FileInfo(path='dbfs:/mnt/container/storageaccountdf/', name='storageaccountdf/', size=0, modificationTime=1736092825000)]"
      ]
     },
     "execution_count": 5,
     "metadata": {},
     "output_type": "execute_result"
    }
   ],
   "source": [
    "# Lister le contenu du conteneur\n",
    "# Affiche tous les fichiers et dossiers dans le conteneur spécifié\n",
    "dbutils.fs.ls(\"/mnt/container\")"
   ]
  },
  {
   "cell_type": "code",
   "execution_count": 0,
   "metadata": {
    "application/vnd.databricks.v1+cell": {
     "cellMetadata": {
      "byteLimit": 2048000,
      "rowLimit": 10000
     },
     "inputWidgets": {},
     "nuid": "390341a4-9d14-4897-b471-8fe51cb9a6e5",
     "showTitle": false,
     "tableResultSettingsMap": {},
     "title": ""
    }
   },
   "outputs": [
    {
     "output_type": "stream",
     "name": "stdout",
     "output_type": "stream",
     "text": [
      "+----------+--------------------+-----------+--------------+-----------+\n|      DATE|        STATION_NAME|ID_REFA_LDA|TITLE_CATEGORY|   NB_VALID|\n+----------+--------------------+-----------+--------------+-----------+\n|2019-07-21|    LA TOUR MAUBOURG|      71242|        NAVIGO|       1141|\n|2019-07-21|          PARMENTIER|      71801|   NOT DEFINED|Less than 5|\n|2019-07-21|          PARMENTIER|      71801|           TST|         97|\n|2019-07-21|   PEREIRE-LEVALLOIS|      71453|           FGT|         53|\n|2019-07-21|             PERNETY|     412687|         OTHER|         36|\n|2019-07-21|              PICPUS|      71639|           FGT|         25|\n|2019-07-21|        PIERRE CURIE|      70537|     IMAGINE R|        264|\n|2019-07-21|             PIGALLE|      71409|  DAILY NAVIGO|          7|\n|2019-07-21|     PLACE DES FETES|      71885|             ?|         20|\n|2019-07-21|     PLACE DES FETES|      71885|     AMETHYSTE|        297|\n|2019-07-21|      PLACE D'ITALIE|      71033|           FGT|        470|\n|2019-07-21|           PLAISANCE|      71039|     IMAGINE R|        636|\n|2019-07-21|               BERCY|      71607|     IMAGINE R|       2242|\n|2019-07-21|PONT DE NEUILLY (...|      71442|        NAVIGO|       3456|\n|2019-07-21|      PONT DE SEVRES|      70698|           FGT|        111|\n|2019-07-21|PONT-MARIE (CITE ...|      71217|  DAILY NAVIGO|Less than 5|\n|2019-07-21|     PORTE D'AUTEUIL|      71169|             ?|        101|\n|2019-07-21|   PORTE DE BAGNOLET|      71799|         OTHER|         38|\n|2019-07-21| PORTE DE CHAMPERRET|      71450|     IMAGINE R|        342|\n|2019-07-21|     PORTE DE CHOISY|      70604|     AMETHYSTE|        291|\n+----------+--------------------+-----------+--------------+-----------+\nonly showing top 20 rows\n"
     ]
    }
   ],
   "source": [
    "# Lire le fichier CSV\n",
    "# Note : Ajuster le chemin selon votre environnement\n",
    "data = spark.read.csv('/mnt/container/france_traffic/Travel_titles_validations_in_Paris_and_suburbs.csv',\n",
    "                      header=True, inferSchema=True)\n",
    "\n",
    "# Afficher les premières lignes\n",
    "# Il inclut le nombre de personnes qui ont pris le transport par jour, par station (code postal) et par catégorie de titre\n",
    "data.show()"
   ]
  },
  {
   "cell_type": "code",
   "execution_count": 0,
   "metadata": {
    "application/vnd.databricks.v1+cell": {
     "cellMetadata": {
      "byteLimit": 2048000,
      "rowLimit": 10000
     },
     "inputWidgets": {},
     "nuid": "9d9cddfe-87fe-4091-bc69-ceaa0766df51",
     "showTitle": false,
     "tableResultSettingsMap": {},
     "title": ""
    }
   },
   "outputs": [
    {
     "output_type": "stream",
     "name": "stdout",
     "output_type": "stream",
     "text": [
      "Number of rows: 883958\nNumber of columns: 5\n"
     ]
    }
   ],
   "source": [
    "# Nombre de lignes et de colonnes\n",
    "print(f\"Nombre de lignes : {data.count()}\")\n",
    "print(f\"Nombre de colonnes : {len(data.columns)}\")"
   ]
  },
  {
   "cell_type": "code",
   "execution_count": 0,
   "metadata": {
    "application/vnd.databricks.v1+cell": {
     "cellMetadata": {
      "byteLimit": 2048000,
      "rowLimit": 10000
     },
     "inputWidgets": {},
     "nuid": "41760e6f-e866-44e9-abf6-f9fb26e4870a",
     "showTitle": false,
     "tableResultSettingsMap": {},
     "title": ""
    }
   },
   "outputs": [
    {
     "output_type": "stream",
     "name": "stdout",
     "output_type": "stream",
     "text": [
      "root\n |-- DATE: date (nullable = true)\n |-- STATION_NAME: string (nullable = true)\n |-- ID_REFA_LDA: integer (nullable = true)\n |-- TITLE_CATEGORY: string (nullable = true)\n |-- NB_VALID: string (nullable = true)\n\n"
     ]
    }
   ],
   "source": [
    "# Afficher la structure des données\n",
    "data.printSchema()"
   ]
  },
  {
   "cell_type": "code",
   "execution_count": 0,
   "metadata": {
    "application/vnd.databricks.v1+cell": {
     "cellMetadata": {
      "byteLimit": 2048000,
      "rowLimit": 10000
     },
     "inputWidgets": {},
     "nuid": "05b2f21a-7a78-4363-a7dc-9dc89d14b157",
     "showTitle": false,
     "tableResultSettingsMap": {},
     "title": ""
    }
   },
   "outputs": [
    {
     "output_type": "stream",
     "name": "stdout",
     "output_type": "stream",
     "text": [
      "Null values in DATE: 0\nNull values in STATION_NAME: 0\nNull values in ID_REFA_LDA: 1499\nNull values in TITLE_CATEGORY: 0\nNull values in NB_VALID: 0\n"
     ]
    }
   ],
   "source": [
    "# Compter le nombre de valeurs nulles dans chaque colonne du DataFrame\n",
    "for col in data.columns:\n",
    "    null_count = data.filter(F.col(col).isNull()).count()\n",
    "    print(f\"Valeurs nulles dans {col}: {null_count}\")"
   ]
  },
  {
   "cell_type": "code",
   "execution_count": 0,
   "metadata": {
    "application/vnd.databricks.v1+cell": {
     "cellMetadata": {
      "byteLimit": 2048000,
      "rowLimit": 10000
     },
     "inputWidgets": {},
     "nuid": "26bca362-9dca-44c6-bf53-b67bab7bc0dd",
     "showTitle": false,
     "tableResultSettingsMap": {},
     "title": ""
    }
   },
   "outputs": [],
   "source": [
    "# Supprimer les valeurs nulles\n",
    "data = data.dropna()\n",
    "\n",
    "# Supprimer les doublons\n",
    "data = data.dropDuplicates()"
   ]
  },
  {
   "cell_type": "code",
   "execution_count": 0,
   "metadata": {
    "application/vnd.databricks.v1+cell": {
     "cellMetadata": {
      "byteLimit": 2048000,
      "rowLimit": 10000
     },
     "inputWidgets": {},
     "nuid": "e058da75-353c-436f-8a62-bf8fe061ca5c",
     "showTitle": false,
     "tableResultSettingsMap": {},
     "title": ""
    }
   },
   "outputs": [],
   "source": [
    "# Supprimer les lignes où ID_REFA_LDA est égal à -1\n",
    "data = data.filter(F.col(\"ID_REFA_LDA\") != -1)\n",
    "\n",
    "# Remplacer 'Less than 5' par 5 dans la colonne NB_VALID\n",
    "data = data.withColumn(\"NB_VALID\",\n",
    "    F.when(F.col(\"NB_VALID\") == \"Less than 5\", 5)\n",
    "    .otherwise(F.col(\"NB_VALID\")))"
   ]
  },
  {
   "cell_type": "code",
   "execution_count": 0,
   "metadata": {
    "application/vnd.databricks.v1+cell": {
     "cellMetadata": {
      "byteLimit": 2048000,
      "rowLimit": 10000
     },
     "inputWidgets": {},
     "nuid": "e0a5d1d3-752d-4c98-a675-a3f0bdf23d3c",
     "showTitle": false,
     "tableResultSettingsMap": {},
     "title": ""
    }
   },
   "outputs": [],
   "source": [
    "# Convertir NB_VALID en format numérique\n",
    "data = data.withColumn(\"NB_VALID\", F.col(\"NB_VALID\").cast(\"double\"))"
   ]
  },
  {
   "cell_type": "code",
   "execution_count": 0,
   "metadata": {
    "application/vnd.databricks.v1+cell": {
     "cellMetadata": {
      "byteLimit": 2048000,
      "rowLimit": 10000
     },
     "inputWidgets": {},
     "nuid": "620ded14-1fe2-4d7c-9d7d-3a73dc704a0f",
     "showTitle": false,
     "tableResultSettingsMap": {},
     "title": ""
    }
   },
   "outputs": [],
   "source": [
    "# Convertir la colonne DATE et extraire le mois et le jour\n",
    "data = data.withColumn(\"DATE\", F.to_timestamp(\"DATE\"))\n",
    "data = data.withColumn(\"month\", F.month(\"DATE\"))\n",
    "data = data.withColumn(\"Day\", F.dayofmonth(\"DATE\"))"
   ]
  },
  {
   "cell_type": "code",
   "execution_count": 0,
   "metadata": {
    "application/vnd.databricks.v1+cell": {
     "cellMetadata": {
      "byteLimit": 2048000,
      "rowLimit": 10000
     },
     "inputWidgets": {},
     "nuid": "c76b3b98-fff7-4d29-b3c2-7cca92f253c5",
     "showTitle": false,
     "tableResultSettingsMap": {},
     "title": ""
    }
   },
   "outputs": [
    {
     "output_type": "stream",
     "name": "stdout",
     "output_type": "stream",
     "text": [
      "root\n |-- DATE: timestamp (nullable = true)\n |-- STATION_NAME: string (nullable = true)\n |-- ID_REFA_LDA: integer (nullable = true)\n |-- TITLE_CATEGORY: string (nullable = true)\n |-- NB_VALID: double (nullable = true)\n |-- month: integer (nullable = true)\n |-- Day: integer (nullable = true)\n\n"
     ]
    }
   ],
   "source": [
    "# Afficher la structure des données\n",
    "data.printSchema()"
   ]
  },
  {
   "cell_type": "code",
   "execution_count": 0,
   "metadata": {
    "application/vnd.databricks.v1+cell": {
     "cellMetadata": {
      "byteLimit": 2048000,
      "rowLimit": 10000
     },
     "inputWidgets": {},
     "nuid": "0db64149-5c08-46dc-a6d2-9f33b90c1528",
     "showTitle": false,
     "tableResultSettingsMap": {},
     "title": ""
    }
   },
   "outputs": [
    {
     "output_type": "stream",
     "name": "stdout",
     "output_type": "stream",
     "text": [
      "+-----+------------+-----------+\n|month| total_valid|   total_id|\n+-----+------------+-----------+\n|   12| 4.5083173E7| 6186871989|\n|    9|1.25184301E8|10254267287|\n|    8| 9.0006039E7|10187666606|\n|    7|1.19062443E8|10330256665|\n|   10|1.40334259E8|10935676848|\n|   11|1.33983102E8|10888002954|\n+-----+------------+-----------+\n\n"
     ]
    }
   ],
   "source": [
    "# Grouper par mois et calculer les sommes\n",
    "monthly_stats = data.groupBy(\"month\") \\\n",
    "    .agg(F.sum(\"NB_VALID\").alias(\"total_valid\"),\n",
    "         F.sum(\"ID_REFA_LDA\").alias(\"total_id\"))\n",
    "monthly_stats.show()"
   ]
  },
  {
   "cell_type": "code",
   "execution_count": 0,
   "metadata": {
    "application/vnd.databricks.v1+cell": {
     "cellMetadata": {
      "byteLimit": 2048000,
      "rowLimit": 10000
     },
     "inputWidgets": {},
     "nuid": "db076cb1-10bf-4f45-827b-1a6c794e2a64",
     "showTitle": false,
     "tableResultSettingsMap": {},
     "title": ""
    }
   },
   "outputs": [],
   "source": [
    "# Créer des catégories NB en utilisant les quartiles\n",
    "quartiles = data.select(\n",
    "    F.min(\"NB_VALID\").alias(\"min\"),\n",
    "    F.percentile_approx(\"NB_VALID\", 0.25).alias(\"q1\"),\n",
    "    F.percentile_approx(\"NB_VALID\", 0.5).alias(\"q2\"),\n",
    "    F.percentile_approx(\"NB_VALID\", 0.75).alias(\"q3\"),\n",
    "    F.max(\"NB_VALID\").alias(\"max\")\n",
    ").collect()[0]\n",
    "\n",
    "# Créer les catégories en utilisant when-otherwise\n",
    "data = data.withColumn(\"NB_Category\",\n",
    "    F.when(F.col(\"NB_VALID\") <= quartiles.q1, 1)\n",
    "    .when(F.col(\"NB_VALID\") <= quartiles.q2, 2)\n",
    "    .when(F.col(\"NB_VALID\") <= quartiles.q3, 3)\n",
    "    .otherwise(4)\n",
    ")"
   ]
  },
  {
   "cell_type": "code",
   "execution_count": 0,
   "metadata": {
    "application/vnd.databricks.v1+cell": {
     "cellMetadata": {
      "byteLimit": 2048000,
      "rowLimit": 10000
     },
     "inputWidgets": {},
     "nuid": "4b4da9d6-e8d8-48bc-867a-ad95039ef7ac",
     "showTitle": false,
     "tableResultSettingsMap": {},
     "title": ""
    }
   },
   "outputs": [
    {
     "output_type": "stream",
     "name": "stdout",
     "output_type": "stream",
     "text": [
      "root\n |-- DATE: timestamp (nullable = true)\n |-- STATION_NAME: string (nullable = true)\n |-- ID_REFA_LDA: integer (nullable = true)\n |-- TITLE_CATEGORY: string (nullable = true)\n |-- NB_VALID: double (nullable = true)\n |-- month: integer (nullable = true)\n |-- Day: integer (nullable = true)\n |-- NB_Category: integer (nullable = false)\n\n"
     ]
    }
   ],
   "source": [
    "data.printSchema()"
   ]
  },
  {
   "cell_type": "code",
   "execution_count": 0,
   "metadata": {
    "application/vnd.databricks.v1+cell": {
     "cellMetadata": {
      "byteLimit": 2048000,
      "rowLimit": 10000
     },
     "inputWidgets": {},
     "nuid": "0f6da5f1-8d86-4c8d-86d8-72223535b0e6",
     "showTitle": false,
     "tableResultSettingsMap": {},
     "title": ""
    }
   },
   "outputs": [],
   "source": [
    "def path_exists(path):\n",
    "    try:\n",
    "        dbutils.fs.ls(path)\n",
    "        return True\n",
    "    except Exception as e:\n",
    "        return False"
   ]
  },
  {
   "cell_type": "code",
   "execution_count": 0,
   "metadata": {
    "application/vnd.databricks.v1+cell": {
     "cellMetadata": {
      "byteLimit": 2048000,
      "rowLimit": 10000
     },
     "inputWidgets": {},
     "nuid": "3a3deb67-fc5f-4678-a4ff-c2c58d8f1e85",
     "showTitle": false,
     "tableResultSettingsMap": {},
     "title": ""
    }
   },
   "outputs": [
    {
     "output_type": "stream",
     "name": "stdout",
     "output_type": "stream",
     "text": [
      "PATH Not found\n"
     ]
    }
   ],
   "source": [
    "base_file_path = \"/mnt/container/france_traffic/processed_data_new\"\n",
    "if not path_exists(base_file_path):\n",
    "    print(\"PATH Not found\")\n",
    "    dbutils.fs.mkdirs(base_file_path)"
   ]
  },
  {
   "cell_type": "code",
   "execution_count": 0,
   "metadata": {
    "application/vnd.databricks.v1+cell": {
     "cellMetadata": {
      "byteLimit": 2048000,
      "rowLimit": 10000
     },
     "inputWidgets": {},
     "nuid": "80103a65-d3ee-433a-994a-5c0aaf786c4c",
     "showTitle": false,
     "tableResultSettingsMap": {},
     "title": ""
    }
   },
   "outputs": [],
   "source": [
    "import os\n",
    "data.write.csv(os.path.join(base_file_path, \"OutPut_Travel_titles_validations.csv\"), header=True)"
   ]
  }
 ],
 "metadata": {
  "application/vnd.databricks.v1+notebook": {
   "computePreferences": null,
   "dashboards": [],
   "environmentMetadata": {
    "base_environment": "",
    "client": "1"
   },
   "language": "python",
   "notebookMetadata": {
    "pythonIndentUnit": 4
   },
   "notebookName": "france_travel_titles_cleaning",
   "widgets": {}
  },
  "language_info": {
   "name": "python"
  }
 },
 "nbformat": 4,
 "nbformat_minor": 0
}